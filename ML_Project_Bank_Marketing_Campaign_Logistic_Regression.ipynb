{
 "cells": [
  {
   "cell_type": "markdown",
   "id": "5e000c2b",
   "metadata": {},
   "source": [
    "# Machine Learning Project #5 - Bank Marketing Campaign"
   ]
  },
  {
   "cell_type": "markdown",
   "id": "d07a914f",
   "metadata": {},
   "source": [
    "The dataset contains phone calls of bank marketing campaigns of a Portuguese banking institution which has 20 features and 1 target variable.\n",
    "\n",
    "**The goal is to classify whether the client will subscribe to a term deposit.**"
   ]
  },
  {
   "cell_type": "markdown",
   "id": "70898da4",
   "metadata": {},
   "source": [
    "-------------------------"
   ]
  },
  {
   "cell_type": "markdown",
   "id": "106f9670",
   "metadata": {},
   "source": [
    "**Motivation:**\n",
    "\n",
    "The algorithm used in this solution is **Logistic Regression** to predict whether the client will subscribe to a term deposit using the logic of **binary classification.**"
   ]
  },
  {
   "cell_type": "markdown",
   "id": "bd154db9",
   "metadata": {},
   "source": [
    "-------------------"
   ]
  },
  {
   "cell_type": "markdown",
   "id": "a9350b43",
   "metadata": {},
   "source": [
    "### Importing the required libraries"
   ]
  },
  {
   "cell_type": "code",
   "execution_count": null,
   "id": "5fdebbea",
   "metadata": {},
   "outputs": [],
   "source": [
    "import numpy as np\n",
    "import pandas as pd\n",
    "import seaborn as sns\n",
    "import matplotlib.pyplot as plt\n",
    "from sklearn.model_selection import train_test_split\n",
    "from sklearn.model_selection import KFold, cross_val_score\n",
    "from sklearn.preprocessing import StandardScaler\n",
    "from sklearn.pipeline import make_pipeline\n",
    "from sklearn.linear_model import LogisticRegression\n",
    "from sklearn.metrics import accuracy_score, classification_report\n",
    "from sklearn.preprocessing import LabelEncoder\n",
    "from sklearn.feature_extraction import FeatureHasher\n",
    "pd.set_option('display.max_columns', None)"
   ]
  },
  {
   "cell_type": "markdown",
   "id": "849b4c4f",
   "metadata": {},
   "source": [
    "------------------------------"
   ]
  },
  {
   "cell_type": "markdown",
   "id": "fdb8ceea",
   "metadata": {},
   "source": [
    "### Importing and viewing the dataset"
   ]
  },
  {
   "cell_type": "code",
   "execution_count": null,
   "id": "79f44559",
   "metadata": {},
   "outputs": [],
   "source": [
    "bank = pd.read_csv(r'bank+marketing (1)\\bank-additional\\bank-additional\\bank-additional-full.csv', delimiter = ';')"
   ]
  },
  {
   "cell_type": "code",
   "execution_count": null,
   "id": "43191b57",
   "metadata": {},
   "outputs": [],
   "source": [
    "bank.head()"
   ]
  },
  {
   "cell_type": "code",
   "execution_count": null,
   "id": "35e1f053",
   "metadata": {},
   "outputs": [],
   "source": [
    "np.round(bank.describe(), 2)"
   ]
  },
  {
   "cell_type": "code",
   "execution_count": null,
   "id": "e1938ce8",
   "metadata": {},
   "outputs": [],
   "source": [
    "bank.info()"
   ]
  },
  {
   "cell_type": "markdown",
   "id": "d5bcdac1",
   "metadata": {},
   "source": [
    "---------------"
   ]
  },
  {
   "cell_type": "markdown",
   "id": "f6d38640",
   "metadata": {},
   "source": [
    "### Checking for outliers"
   ]
  },
  {
   "cell_type": "code",
   "execution_count": null,
   "id": "857be3ef",
   "metadata": {},
   "outputs": [],
   "source": [
    "numerical_cols = bank.select_dtypes(include='number')\n",
    "\n",
    "Q1 = numerical_cols.quantile(0.25)\n",
    "Q3 = numerical_cols.quantile(0.75)\n",
    "IQR = Q3 - Q1\n",
    "\n",
    "potential_outliers = ((numerical_cols < (Q1 - 1.5 * IQR)) | (numerical_cols > (Q3 + 1.5 * IQR)))\n",
    "outliers = potential_outliers.any(axis=1)\n",
    "\n",
    "print(bank[outliers])"
   ]
  },
  {
   "cell_type": "code",
   "execution_count": null,
   "id": "2488d6ea",
   "metadata": {},
   "outputs": [],
   "source": [
    "plt.figure(figsize=(10, 6))\n",
    "numerical_cols.boxplot()\n",
    "plt.xticks(rotation=45)\n",
    "plt.title('Boxplot of Numerical Columns')\n",
    "plt.xlabel('Columns')\n",
    "plt.ylabel('Values')\n",
    "plt.show()"
   ]
  },
  {
   "cell_type": "markdown",
   "id": "4660f34f",
   "metadata": {},
   "source": [
    "-----------------------"
   ]
  },
  {
   "cell_type": "markdown",
   "id": "c375b4f6",
   "metadata": {},
   "source": [
    "### Data Visualization"
   ]
  },
  {
   "cell_type": "code",
   "execution_count": null,
   "id": "0b5bbfb0",
   "metadata": {
    "scrolled": false
   },
   "outputs": [],
   "source": [
    "for column in numerical_cols.columns:\n",
    "    plt.figure(figsize=(8, 6))\n",
    "    sns.histplot(bank[column], bins=20)  # Adjust the number of bins as needed\n",
    "    plt.title(f'Histogram of {column}')\n",
    "    plt.xlabel('Values')\n",
    "    plt.ylabel('Frequency')\n",
    "    plt.show()"
   ]
  },
  {
   "cell_type": "markdown",
   "id": "dba148cb",
   "metadata": {},
   "source": [
    "----------------"
   ]
  },
  {
   "cell_type": "markdown",
   "id": "cdeb9902",
   "metadata": {},
   "source": [
    "### Correlation between the numerical features"
   ]
  },
  {
   "cell_type": "code",
   "execution_count": null,
   "id": "54c77601",
   "metadata": {},
   "outputs": [],
   "source": [
    "correlation_matrix = bank.corr()\n",
    "plt.figure(figsize=(10, 8))\n",
    "sns.heatmap(correlation_matrix, annot=True, cmap='coolwarm')\n",
    "plt.title('Correlation Heatmap')\n",
    "plt.show()"
   ]
  },
  {
   "cell_type": "markdown",
   "id": "449e92a5",
   "metadata": {},
   "source": [
    "---------------------"
   ]
  },
  {
   "cell_type": "markdown",
   "id": "c0f72e4b",
   "metadata": {},
   "source": [
    "### Data Imputation & Encoding"
   ]
  },
  {
   "cell_type": "markdown",
   "id": "4df6f129",
   "metadata": {},
   "source": [
    "##### Removing all the rows from all columns whose value is 'unknown'"
   ]
  },
  {
   "cell_type": "code",
   "execution_count": null,
   "id": "abbf756d",
   "metadata": {},
   "outputs": [],
   "source": [
    "bank = bank[bank.ne('unknown').all(axis=1)].reset_index()"
   ]
  },
  {
   "cell_type": "code",
   "execution_count": null,
   "id": "4e57502d",
   "metadata": {},
   "outputs": [],
   "source": [
    "bank.head()"
   ]
  },
  {
   "cell_type": "markdown",
   "id": "5965ccea",
   "metadata": {},
   "source": [
    "##### Encoding each categorical variable"
   ]
  },
  {
   "cell_type": "code",
   "execution_count": null,
   "id": "ae5f7473",
   "metadata": {},
   "outputs": [],
   "source": [
    "object_columns = bank.select_dtypes(include='object').columns"
   ]
  },
  {
   "cell_type": "code",
   "execution_count": null,
   "id": "1983d961",
   "metadata": {},
   "outputs": [],
   "source": [
    "unique_counts = {}\n",
    "for column in object_columns:\n",
    "    unique_counts[column] = bank[column].nunique()"
   ]
  },
  {
   "cell_type": "code",
   "execution_count": null,
   "id": "e3303d22",
   "metadata": {},
   "outputs": [],
   "source": [
    "print(unique_counts)"
   ]
  },
  {
   "cell_type": "code",
   "execution_count": null,
   "id": "8e4e6954",
   "metadata": {},
   "outputs": [],
   "source": [
    "for i in bank.dtypes[bank.dtypes == 'object'].keys():\n",
    "    if i!='y':\n",
    "        h = FeatureHasher(n_features = len(bank[i].unique()), input_type ='string')\n",
    "        new_column = i+'_encode'\n",
    "        hashed_Feature = h.fit_transform(bank[i])\n",
    "        hashed_Feature = hashed_Feature.toarray()\n",
    "        bank1 = pd.DataFrame(hashed_Feature)\n",
    "        column_list = list(bank1.columns)\n",
    "        print(column_list)\n",
    "        column_dict={}\n",
    "        for j in column_list:\n",
    "            column_dict[j]=i+'_'+str(j)\n",
    "        print(column_dict)\n",
    "        bank1=bank1.rename(columns=column_dict,errors='raise')\n",
    "        print(list(bank1.columns))\n",
    "        bank = pd.concat([bank, bank1], axis = 1)"
   ]
  },
  {
   "cell_type": "code",
   "execution_count": null,
   "id": "65f546c5",
   "metadata": {},
   "outputs": [],
   "source": [
    "bank['y_encoded'] = label_encoder.fit_transform(bank['y'])"
   ]
  },
  {
   "cell_type": "code",
   "execution_count": null,
   "id": "cc00b13a",
   "metadata": {},
   "outputs": [],
   "source": [
    "bank.head()"
   ]
  },
  {
   "cell_type": "code",
   "execution_count": null,
   "id": "0fdcad7f",
   "metadata": {},
   "outputs": [],
   "source": [
    "bank = bank.drop(columns = list(bank.dtypes[bank.dtypes == 'object'].keys()))\n",
    "bank.head()"
   ]
  },
  {
   "cell_type": "markdown",
   "id": "3915da05",
   "metadata": {},
   "source": [
    "---------------"
   ]
  },
  {
   "cell_type": "markdown",
   "id": "b5f18567",
   "metadata": {},
   "source": [
    "### Splitting the dataset into training and test data"
   ]
  },
  {
   "cell_type": "code",
   "execution_count": null,
   "id": "6e033355",
   "metadata": {},
   "outputs": [],
   "source": [
    "X = bank.drop('y_encoded', axis=1)\n",
    "y = bank['y_encoded']"
   ]
  },
  {
   "cell_type": "code",
   "execution_count": null,
   "id": "1b1c5555",
   "metadata": {},
   "outputs": [],
   "source": [
    "X_train, X_test, y_train, y_test = train_test_split(X, y, test_size = 0.3, random_state = 42)"
   ]
  },
  {
   "cell_type": "markdown",
   "id": "d1a4e26e",
   "metadata": {},
   "source": [
    "------------"
   ]
  },
  {
   "cell_type": "markdown",
   "id": "91d61b6c",
   "metadata": {},
   "source": [
    "### Training the model"
   ]
  },
  {
   "cell_type": "code",
   "execution_count": null,
   "id": "17bf6824",
   "metadata": {},
   "outputs": [],
   "source": [
    "logreg = LogisticRegression(max_iter=1000)  # Initialize the logistic regression model\n",
    "logreg.fit(X_train, y_train)  # Train the model"
   ]
  },
  {
   "cell_type": "markdown",
   "id": "a4d0b0b0",
   "metadata": {},
   "source": [
    "---------------"
   ]
  },
  {
   "cell_type": "markdown",
   "id": "47244447",
   "metadata": {},
   "source": [
    "### Using the model to predict the test dataset"
   ]
  },
  {
   "cell_type": "code",
   "execution_count": null,
   "id": "f9e08b8f",
   "metadata": {},
   "outputs": [],
   "source": [
    "predictions = logreg.predict(X_test)"
   ]
  },
  {
   "cell_type": "code",
   "execution_count": null,
   "id": "007908e2",
   "metadata": {},
   "outputs": [],
   "source": [
    "accuracy = accuracy_score(y_test, predictions)\n",
    "print(f\"Accuracy: {accuracy:.2f}\")\n",
    "\n",
    "# Additional evaluation metrics\n",
    "print(\"\\nClassification Report:\")\n",
    "print(classification_report(y_test, predictions))"
   ]
  },
  {
   "cell_type": "markdown",
   "id": "41204f99",
   "metadata": {},
   "source": [
    "------------------"
   ]
  },
  {
   "cell_type": "markdown",
   "id": "352319e0",
   "metadata": {},
   "source": [
    "### Calculating the cross-validation score"
   ]
  },
  {
   "cell_type": "code",
   "execution_count": null,
   "id": "815184f3",
   "metadata": {},
   "outputs": [],
   "source": [
    "logistic_regression_pipeline = make_pipeline(StandardScaler(),\n",
    "                                           LogisticRegression())"
   ]
  },
  {
   "cell_type": "code",
   "execution_count": null,
   "id": "95840079",
   "metadata": {},
   "outputs": [],
   "source": [
    "mse_logistic = cross_val_score(estimator = logistic_regression_pipeline,\n",
    "                               X = X,\n",
    "                               y = y,\n",
    "                               cv = KFold(n_splits=10, shuffle=True, random_state=0),\n",
    "                               scoring = 'neg_mean_squared_error')"
   ]
  },
  {
   "cell_type": "code",
   "execution_count": null,
   "id": "3ff647de",
   "metadata": {},
   "outputs": [],
   "source": [
    "-(mse_logistic.mean())"
   ]
  }
 ],
 "metadata": {
  "kernelspec": {
   "display_name": "Python 3 (ipykernel)",
   "language": "python",
   "name": "python3"
  },
  "language_info": {
   "codemirror_mode": {
    "name": "ipython",
    "version": 3
   },
   "file_extension": ".py",
   "mimetype": "text/x-python",
   "name": "python",
   "nbconvert_exporter": "python",
   "pygments_lexer": "ipython3",
   "version": "3.9.7"
  }
 },
 "nbformat": 4,
 "nbformat_minor": 5
}
